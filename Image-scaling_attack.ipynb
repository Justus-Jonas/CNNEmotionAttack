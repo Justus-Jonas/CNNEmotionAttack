{
  "nbformat": 4,
  "nbformat_minor": 0,
  "metadata": {
    "colab": {
      "name": "CompVision CNN  Sasha Playground.ipynb",
      "provenance": [],
      "collapsed_sections": [],
      "toc_visible": true
    },
    "kernelspec": {
      "name": "python3",
      "display_name": "Python 3"
    },
    "language_info": {
      "name": "python"
    },
    "accelerator": "GPU"
  },
  "cells": [
    {
      "cell_type": "markdown",
      "metadata": {
        "id": "oQIK8h4jYOXo"
      },
      "source": [
        "# **Image Scaling attack**\n",
        "\n",
        "this notebook shows an example of an image scaling attack on the test data set using our CNN. "
      ]
    },
    {
      "cell_type": "markdown",
      "metadata": {
        "id": "nkzRgeqJ7FFx"
      },
      "source": [
        "# Setup Environmet  \n",
        "\n",
        "feel free to skip this step"
      ]
    },
    {
      "cell_type": "code",
      "metadata": {
        "colab": {
          "base_uri": "https://localhost:8080/"
        },
        "id": "IHEeVRIqyWko",
        "outputId": "c46e2000-4bb1-4a15-c89e-efc37f5acc5b"
      },
      "source": [
        "from google.colab import drive\n",
        "drive.mount('/content/drive')"
      ],
      "execution_count": 1,
      "outputs": [
        {
          "output_type": "stream",
          "text": [
            "Mounted at /content/drive\n"
          ],
          "name": "stdout"
        }
      ]
    },
    {
      "cell_type": "code",
      "metadata": {
        "colab": {
          "base_uri": "https://localhost:8080/"
        },
        "id": "UgAeqDxZyiO-",
        "outputId": "0cdca652-a5c5-47b3-e956-30e27785b12d"
      },
      "source": [
        "%cd \"/content/drive/MyDrive/CompVision Assignment 2/data\""
      ],
      "execution_count": 2,
      "outputs": [
        {
          "output_type": "stream",
          "text": [
            "/content/drive/.shortcut-targets-by-id/1JSKuo1EgGmXoyTyFH7bLmh4QyZejsXhh/CompVision Assignment 2/data\n"
          ],
          "name": "stdout"
        }
      ]
    },
    {
      "cell_type": "code",
      "metadata": {
        "id": "5gezB4rKnLuC",
        "colab": {
          "base_uri": "https://localhost:8080/"
        },
        "outputId": "c399763e-43f3-4c7a-844d-7acd9a0b2064"
      },
      "source": [
        "import pandas as pd\n",
        "import numpy as np\n",
        "from matplotlib import pyplot as plt\n",
        "\n",
        "import tensorflow as tf\n",
        "\n",
        "from tensorflow.keras import datasets, layers, models\n",
        "from tensorflow.keras.models import Sequential \n",
        "from tensorflow.keras.layers import Dense, Dropout, Activation, Flatten, Conv2D, MaxPooling2D\n",
        "from keras.optimizers import Nadam, Adam\n",
        "\n",
        "from sklearn.model_selection import train_test_split\n",
        "\n",
        "from keras.utils import np_utils\n",
        "from tensorflow.keras.callbacks import TensorBoard, EarlyStopping, ModelCheckpoint, ReduceLROnPlateau\n",
        "\n",
        "%load_ext tensorboard\n",
        "import time\n",
        "\n",
        "device_name = tf.test.gpu_device_name()\n",
        "if device_name != '/device:GPU:0':\n",
        "  raise SystemError('GPU device not found')\n",
        "print('Found GPU at: {}'.format(device_name))"
      ],
      "execution_count": 12,
      "outputs": [
        {
          "output_type": "stream",
          "text": [
            "The tensorboard extension is already loaded. To reload it, use:\n",
            "  %reload_ext tensorboard\n",
            "Found GPU at: /device:GPU:0\n"
          ],
          "name": "stdout"
        }
      ]
    },
    {
      "cell_type": "markdown",
      "metadata": {
        "id": "sdRhzx591DcQ"
      },
      "source": [
        "# Load & Transform data"
      ]
    },
    {
      "cell_type": "code",
      "metadata": {
        "id": "0oYRX-MryPpv"
      },
      "source": [
        "# Load test data \n",
        "test = pd.read_csv(\"test.csv\")"
      ],
      "execution_count": 77,
      "outputs": []
    },
    {
      "cell_type": "code",
      "metadata": {
        "id": "nkFnrH-LyyzN"
      },
      "source": [
        "def transform_test(data):\n",
        "  \"\"\"\n",
        "  transform array so it can be read by the model\n",
        "  \"\"\"\n",
        "    image_array = np.zeros(shape=(len(data), 48, 48, 1))\n",
        "\n",
        "    for i in data.index:\n",
        "        image = np.fromstring(data.pixels.loc[i], dtype=int, sep=' ')\n",
        "        image = np.reshape(image, (48, 48,1)) \n",
        "        # Normalize to be between 0 -> 1\n",
        "        image_array[i] = image / 255\n",
        "\n",
        "    return image_array"
      ],
      "execution_count": 6,
      "outputs": []
    },
    {
      "cell_type": "markdown",
      "metadata": {
        "id": "rV-fS0ep2Q45"
      },
      "source": [
        "# **image scaling attack**"
      ]
    },
    {
      "cell_type": "code",
      "metadata": {
        "id": "gbWh1JP19PaO"
      },
      "source": [
        "img_test = transform_test(test)"
      ],
      "execution_count": 78,
      "outputs": []
    },
    {
      "cell_type": "markdown",
      "metadata": {
        "id": "BRARoxHOzqeW"
      },
      "source": [
        "# Source Image"
      ]
    },
    {
      "cell_type": "code",
      "metadata": {
        "colab": {
          "base_uri": "https://localhost:8080/",
          "height": 340
        },
        "id": "jjFnFuQR2Tm_",
        "outputId": "a69a9598-57e4-49ba-9e1e-b6c1f8d83626"
      },
      "source": [
        "from tensorflow.keras.models import load_model \n",
        "import imageio as io\n",
        "\n",
        "# load model \n",
        "model = load_model(\"best.h5\")\n",
        "\n",
        "# index of source image\n",
        "index = 7\n",
        "\n",
        "print(img_test[index].shape)\n",
        "\n",
        "img = img_test[index]\n",
        "\n",
        "prediction = model.predict(img_test)\n",
        "\n",
        "\n",
        "img_pred = prediction[index]\n",
        "\n",
        "print(img_pred)\n",
        "\n",
        "# 1-hot encoding to label\n",
        "label = img_pred.argmax(0)\n",
        "\n",
        "emotions = [\"Angry\",\"Disgust\",\"Fear\",\"Happy\",\"Sad\",\"Suprise\",\"Neutral\"]\n",
        "\n",
        "\n",
        "\n",
        "#pot image and save it for attack\n",
        "\n",
        "plt.xticks([])\n",
        "plt.yticks([])\n",
        "plt.grid(False)\n",
        "plt.imshow(img_test[index,:,:,0], cmap='binary_r')\n",
        "print(emotions[label])\n",
        "io.imwrite(\"sad.png\", img_test[index,:, :, 0]) "
      ],
      "execution_count": 229,
      "outputs": [
        {
          "output_type": "stream",
          "text": [
            "(48, 48, 1)\n"
          ],
          "name": "stdout"
        },
        {
          "output_type": "stream",
          "text": [
            "WARNING:root:Lossy conversion from float64 to uint8. Range [0, 1]. Convert image to uint8 prior to saving to suppress this warning.\n"
          ],
          "name": "stderr"
        },
        {
          "output_type": "stream",
          "text": [
            "[0.03715803 0.00084562 0.13790847 0.02382916 0.54794294 0.00497558\n",
            " 0.24734023]\n",
            "Sad\n"
          ],
          "name": "stdout"
        },
        {
          "output_type": "display_data",
          "data": {
            "image/png": "[encoded data removed]",
            "text/plain": [
              "<Figure size 432x288 with 1 Axes>"
            ]
          },
          "metadata": {
            "tags": []
          }
        }
      ]
    },
    {
      "cell_type": "markdown",
      "metadata": {
        "id": "Au0P8JIZz2LK"
      },
      "source": [
        "# Target Image"
      ]
    },
    {
      "cell_type": "code",
      "metadata": {
        "colab": {
          "base_uri": "https://localhost:8080/",
          "height": 322
        },
        "id": "3dt4YrBEOanY",
        "outputId": "8a79dc1f-2c94-4f01-b5d7-4cbee3a9f2e9"
      },
      "source": [
        "# same as for source image\n",
        "\n",
        "index = 12\n",
        "\n",
        "img_pred = prediction[index]\n",
        "\n",
        "print(img_pred)\n",
        "\n",
        "label = img_pred.argmax(0)\n",
        "\n",
        "emotions = [\"Angry\",\"Disgust\",\"Fear\",\"Happy\",\"Sad\",\"Suprise\",\"Neutral\"]\n",
        "\n",
        "plt.xticks([])\n",
        "plt.yticks([])\n",
        "plt.grid(False)\n",
        "plt.imshow(img_test[index,:,:,0], cmap='binary_r')\n",
        "print(emotions[label])\n",
        "io.imwrite(\"sad_attack.png\", img_test[index,:, :, 0]) "
      ],
      "execution_count": 217,
      "outputs": [
        {
          "output_type": "stream",
          "text": [
            "WARNING:root:Lossy conversion from float64 to uint8. Range [0, 1]. Convert image to uint8 prior to saving to suppress this warning.\n"
          ],
          "name": "stderr"
        },
        {
          "output_type": "stream",
          "text": [
            "[0.33222643 0.00906152 0.2651687  0.00796405 0.32615682 0.00846135\n",
            " 0.05096114]\n",
            "Angry\n"
          ],
          "name": "stdout"
        },
        {
          "output_type": "display_data",
          "data": {
            "image/png": "[encoded data removed]",
            "text/plain": [
              "<Figure size 432x288 with 1 Axes>"
            ]
          },
          "metadata": {
            "tags": []
          }
        }
      ]
    },
    {
      "cell_type": "markdown",
      "metadata": {
        "id": "QAUTyyd_zoRS"
      },
      "source": [
        ""
      ]
    },
    {
      "cell_type": "markdown",
      "metadata": {
        "id": "T_kqfCtNzmgI"
      },
      "source": [
        "# Attack Image"
      ]
    },
    {
      "cell_type": "code",
      "metadata": {
        "colab": {
          "base_uri": "https://localhost:8080/",
          "height": 322
        },
        "id": "UaZ0pas2uagp",
        "outputId": "4b9de21b-7849-4769-82e4-7f91dcdd0b5a"
      },
      "source": [
        "# same as for source image\n",
        "# with addition load image from drive instead from the test array\n",
        "\n",
        "from PIL import Image\n",
        "import numpy as np\n",
        "img = Image.open(\"attack_image.jpg\").convert('L')\n",
        "arr = np.array(img.getdata(), dtype=np.uint8) # Note the dtype input\n",
        "arr = np.reshape(arr, (48, 48,1))\n",
        "arr = arr/255\n",
        "\n",
        "plt.xticks([])\n",
        "plt.yticks([])\n",
        "plt.grid(False)\n",
        "plt.imshow(arr[:,:,0], cmap='binary_r')\n",
        "\n",
        "arr = np.reshape(arr, (1,48, 48,1))\n",
        "prediction = model.predict(arr)\n",
        "\n",
        "prediction_img = prediction[0]\n",
        "print(prediction)\n",
        "\n",
        "emotions = [\"Angry\",\"Disgust\",\"Fear\",\"Happy\",\"Sad\",\"Suprise\",\"Neutral\"]\n",
        "label = prediction_img.argmax(0)\n",
        "print(label)\n",
        "\n",
        "print(emotions[label])"
      ],
      "execution_count": 231,
      "outputs": [
        {
          "output_type": "stream",
          "text": [
            "[[0.31886154 0.00966935 0.2640744  0.01022375 0.33259365 0.00933063\n",
            "  0.0552467 ]]\n",
            "4\n",
            "Sad\n"
          ],
          "name": "stdout"
        },
        {
          "output_type": "display_data",
          "data": {
            "image/png": "[encoded data removed]",
            "text/plain": [
              "<Figure size 432x288 with 1 Axes>"
            ]
          },
          "metadata": {
            "tags": []
          }
        }
      ]
    },
    {
      "cell_type": "markdown",
      "metadata": {
        "id": "tfhJntwvWB8Z"
      },
      "source": [
        ""
      ]
    },
    {
      "cell_type": "markdown",
      "metadata": {
        "id": "902IeitLUS1B"
      },
      "source": [
        "# Image Scaling attack: \n",
        "Algorithm Source Code from: https://github.com/ReyanAdil/Image_Scaling_Attack\n",
        "\n"
      ]
    },
    {
      "cell_type": "code",
      "metadata": {
        "id": "f549FfdIQFxy"
      },
      "source": [
        "# CODE STOLEN \n",
        "\n",
        "from PIL import Image\n",
        "\n",
        "source_image = Image\n",
        "target_image = Image\n",
        "try:\n",
        "    # Source Image\n",
        "    source_image = Image.open(\"sad.png\")\n",
        "    source_image = source_image.convert('RGB').split()\n",
        "    # Target Image\n",
        "    target_image = Image.open(\"sad_attack.png\")\n",
        "    target_image = target_image.convert('RGB').split()\n",
        "except IOError:\n",
        "    print(\"File Not Found\")\n",
        "implement_attack(source_image, target_image)"
      ],
      "execution_count": null,
      "outputs": []
    },
    {
      "cell_type": "code",
      "metadata": {
        "id": "8mhSP_1bM-B6"
      },
      "source": [
        "# CODE STOLEN \n",
        "\n",
        "\n",
        "import numpy as np\n",
        "from PIL import Image\n",
        "import cvxpy as cp\n",
        "import cv2\n",
        "\n",
        "\n",
        "def get_coefficients(m, n, mprime, nprime, scale_func=Image.NEAREST):  # def get_coefficients(int, int, int, int)\n",
        "    # set image size and scaled image size, here image size is m*n = 700*350 and scaled m'*n' = 175*50\n",
        "    In_max = 255  # maximum pixel value in an image/white\n",
        "\n",
        "    # now we will create an identity matrix of size m*m, and multiply it with the highest pixel value ie white\n",
        "    # so basically we are creating a white box of size m*m, lets call it 'matrix_of_white_box'\n",
        "\n",
        "    # its more like a white diagonal in a black box\n",
        "\n",
        "    matrix_of_white_box = np.identity(m) * In_max  # this creates a 2d array with all white values, hence a white box\n",
        "\n",
        "    # now we will scale this white box down to the scaling size of m*m' using the scaling algo\n",
        "\n",
        "    # for that we need to convert this 'matrix_of_white_box' into an image first, hence:\n",
        "    white_box = Image.fromarray(matrix_of_white_box.T)\n",
        "    # now we scale it using 'resize'\n",
        "    resized_white_box = white_box.resize((mprime, m), scale_func)\n",
        "\n",
        "    # now the CL or the vertical coefficient matrix will be this 'resized_white_box' converted to array and then divided\n",
        "    # by the In_max value, which now just leaves the fractions, which are the coefficients for this scaling\n",
        "    # i.e. m'*m\n",
        "    CL = np.array(resized_white_box).T / In_max  # transposing because white_box is (175, 700) but CL is (700, 175)\n",
        "\n",
        "    # we need to do the same for CR\n",
        "    # create matrix_of_white_box\n",
        "    matrix_of_white_box = np.identity(n) * In_max\n",
        "\n",
        "    # convert matrix to image\n",
        "    white_box = Image.fromarray(matrix_of_white_box.T)\n",
        "\n",
        "    # scale the image to n*n'\n",
        "    resized_white_box = white_box.resize((n, nprime), scale_func)\n",
        "\n",
        "    # convert this image to array and divide by In_max so we are left with coefficients\n",
        "    CR = np.array(resized_white_box).T / In_max\n",
        "\n",
        "    return CL, CR\n",
        "\n",
        "\n",
        "def generate_attack_image(source_image, target_image, scale_func=Image.NEAREST):\n",
        "    # S\n",
        "    source_image_array = np.array(source_image)\n",
        "\n",
        "    # T\n",
        "    target_image_array = np.array(target_image)\n",
        "\n",
        "    m, n = source_image_array.shape  # m = height of S image, n = width of S image\n",
        "    mprime, nprime = target_image_array.shape  # m' = height of T image, n' = width of T\n",
        "\n",
        "    # get coefficient matrices\n",
        "    CL, CR = get_coefficients(m, n, mprime, nprime, scale_func)\n",
        "\n",
        "    print(m, n, mprime, nprime, CL.shape, CR.shape)\n",
        "\n",
        "    # create empty delta_one_vertical matrix filled with zeroes of size m*n'\n",
        "    delta_one_vertical = np.zeros((m, nprime))\n",
        "\n",
        "    # get intermediate_source_image of size mxn'\n",
        "    intermediate_source_image = source_image.resize((m, nprime), scale_func)\n",
        "    intermediate_source_image_array = np.array(intermediate_source_image).T  # convert image to array\n",
        "    # Launch vertical scaling attack\n",
        "    for col in range(nprime):\n",
        "        delta_one_vertical[:, col] = get_perturbation(intermediate_source_image_array[:, col],\n",
        "                                                      target_image_array[:, col], CL, obj='min')\n",
        "\n",
        "    # intermediate attack image of size mxn', achieved by adding delta_one_vertical and intermediate_source_image\n",
        "    intermediate_attack_image_array = (intermediate_source_image_array + delta_one_vertical).astype('uint8')\n",
        "\n",
        "    # create delta_one_horizontal matrix filled with zeros of size m*n\n",
        "    delta_one_horizontal = np.zeros((m, n))\n",
        "\n",
        "    # Launch horizontal attack\n",
        "    for row in range(m):\n",
        "        delta_one_horizontal[row, :] = get_perturbation(source_image_array[row, :],\n",
        "                                                        intermediate_attack_image_array[row, :], CR, obj='min')\n",
        "    # get final attack_image_array\n",
        "    attack_image_array = (source_image_array + delta_one_horizontal).astype('uint8')\n",
        "\n",
        "    attack_image = Image.fromarray(attack_image_array)\n",
        "\n",
        "    return attack_image\n",
        "\n",
        "\n",
        "# I tried to make this method universal\n",
        "# 1: It Maximizes or Minimizes the objective function depending on the value of 'obj' = min/max\n",
        "# 2: It toggles constraints based on convert_matrix.size, because we need to match matrices for successful dot product\n",
        "# def get_perturbation(np.1dArray, np.1dArray, np.2dArray, String):\n",
        "def get_perturbation(source_vector, target_vector, convert_matrix, obj):\n",
        "    n = source_vector.size\n",
        "\n",
        "    # Declare variable named 'perturb' to optimize. It is a 1d array/vector of size same as source_vector\n",
        "    # perturb is basically delta1 in 1dimension\n",
        "    # This method is where all the magic happens so read the details below to understand\n",
        "    # 1. perturb(or delta1) is an array/vector that can assume a lot of possible elements while being of size n\n",
        "    #    Further multiple sets(arrays) of n size can satisfy perturb\n",
        "    # 2. This method computes all the possible elements and sets that perturb can have or be while maintaining some rules\n",
        "    # 3. Rule a: Each element of (perturb when added with source_vector) should remain between 0 and 255(allowed pixel)\n",
        "    #    Rule b: delta2 should be bounded by(less than) 0.01*255\n",
        "    #            This kinda denotes that the difference between target image and output image should not exceed this value\n",
        "    #            delta2 = CL(perturb + source_vector) - target_vector; since attack_vector = CL*(perturb + source_vector)\n",
        "    #    Rule c: As we know that there could be multiple sets of perturb that could satisfy Rule a and b, therefore we\n",
        "    #            find the Lsquare norm(which is basically squareroot of(sum of squares of all elements of perturb).\n",
        "    #            In a way it gives the magnitude of an array/vector, our job is to find the set that has the min/max\n",
        "    #            Lsquare Norm off all the possible sets\n",
        "    perturb = cp.Variable(n)\n",
        "\n",
        "    # Create the function to be Maximised/Minimised (||delta1||2 --> L^2 norm of delta1)\n",
        "    function = cp.norm(perturb)\n",
        "\n",
        "    # Declare objective function based on value of obj\n",
        "    if obj == 'max':\n",
        "        objective = cp.Maximize(function)  # Rule c\n",
        "    else:\n",
        "        objective = cp.Minimize(function)  # Rule c\n",
        "\n",
        "    constraints = []\n",
        "    # set up constraints\n",
        "    # Rule a:\n",
        "    constraints += [source_vector + perturb >= 0]\n",
        "    constraints += [source_vector + perturb <= 255]\n",
        "\n",
        "    # Rule b:\n",
        "    # if the number of columns of convert_matrix coincide with the number of rows of source_vector(when its column vector)\n",
        "    if convert_matrix[0].size == source_vector.size:\n",
        "        constraints += [cp.norm_inf((convert_matrix * (source_vector + perturb)) - target_vector) <= (0.01 * 255)]\n",
        "    else:  # else Transpose convert_matrix to make them coincide (usually happens when source_vector is a row vector)\n",
        "        constraints += [cp.norm_inf((convert_matrix.T * (source_vector + perturb)) - target_vector) <= (0.01 * 255)]\n",
        "\n",
        "    # Create problem with objective and constraints\n",
        "    prob = cp.Problem(objective, constraints)\n",
        "\n",
        "    # Launch the solver\n",
        "    prob.solve()\n",
        "\n",
        "    # Testing:\n",
        "    print(prob.status)\n",
        "    print(perturb.value.shape)\n",
        "\n",
        "    # Solution array/vector is stored in the value field of perturb\n",
        "    return perturb.value\n",
        "\n",
        "\n",
        "def implement_attack(source_image, target_image):   # def implement_attack(Image, Image)\n",
        "\n",
        "    # Convert(to drop Alpha channel if any) and Split Source image into separate channels(stored as tuple)\n",
        "    #source_image = source_image.split()\n",
        "\n",
        "    # Convert(to drop Alpha channel if any) and Split Target image into separate channels(stored as tuple)\n",
        "    #target_image = target_image.split()\n",
        "\n",
        "    # store scaling function in a variable scale_func, we can toggle between different scaling functions to be used\n",
        "    # directly from here, below are some examples\n",
        "    scale_func = Image.NEAREST\n",
        "\n",
        "    # generate attack image channels R, G and B\n",
        "    # We could use a for loop and remove some clutter but this just makes it easy to understand\n",
        "    R = generate_attack_image(source_image[0], target_image[0])\n",
        "    G = generate_attack_image(source_image[1], target_image[1])\n",
        "    B = generate_attack_image(source_image[2], target_image[2])\n",
        "\n",
        "    # merge the three channels to form the attack image\n",
        "    attack_image = Image.merge('RGB', (R, G, B))\n",
        "\n",
        "    # testing: show generated image and scaled image\n",
        "    attack_image.show()\n",
        "    attack_image.resize(target_image[0].size, scale_func).show()\n",
        "\n",
        "    # save the generated attack image\n",
        "    attack_image.save(\"attack_image.jpg\")"
      ],
      "execution_count": 125,
      "outputs": []
    }
  ]
}